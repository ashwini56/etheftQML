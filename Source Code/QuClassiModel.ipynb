{
 "cells": [
  {
   "cell_type": "code",
   "execution_count": 1,
   "id": "f8087141",
   "metadata": {},
   "outputs": [],
   "source": [
    "import numpy as np\n",
    "import matplotlib.pyplot as plt\n",
    "\n",
    "from qiskit import assemble, Aer, transpile, execute\n",
    "from qiskit import BasicAer\n",
    "from qiskit import QuantumCircuit, QuantumRegister, ClassicalRegister\n",
    "from qiskit.circuit import ParameterVector\n",
    "from qiskit.visualization import *\n",
    "\n",
    "import math \n",
    "\n",
    "import sklearn\n",
    "from sklearn import metrics\n",
    "\n",
    "import pandas as pd"
   ]
  },
  {
   "cell_type": "code",
   "execution_count": 3,
   "id": "647f68d2",
   "metadata": {},
   "outputs": [],
   "source": [
    "def getDataWithStatsFeatures(xDropped):\n",
    "    \n",
    "    data = pd.DataFrame()\n",
    "    data['CONS_NO'] = xDropped['CONS_NO']\n",
    "    data['FLAG'] = xDropped['FLAG']\n",
    "    data['Mean'] = xDropped.iloc[:,2:].mean(axis=1, skipna=True, numeric_only=True)\n",
    "    data['Median'] = xDropped.iloc[:,2:].median(axis=1, skipna=True, numeric_only=True )\n",
    "    data['Standard deviation'] = xDropped.iloc[:,2:].std(axis=1, skipna=True, numeric_only=True)\n",
    "    data['Variance'] = xDropped.iloc[:,2:].var(axis=1, skipna=True, numeric_only=True )\n",
    "    data['Kurtosis'] = xDropped.iloc[:,2:].kurtosis(axis=1, skipna=True, numeric_only=True)\n",
    "    data['Skew'] = xDropped.iloc[:,2:].skew(axis=1, skipna=True, numeric_only=True )\n",
    "    data['5%'] = xDropped.iloc[:,2:].quantile(axis=1, numeric_only=True, q = 0.05)\n",
    "    data['10%'] = xDropped.iloc[:,2:].quantile(axis=1, numeric_only=True, q = 0.1)\n",
    "    data['20%'] = xDropped.iloc[:,2:].quantile(axis=1, numeric_only=True, q = 0.2)\n",
    "    data['25%'] = xDropped.iloc[:,2:].quantile(axis=1, numeric_only=True, q = 0.25)\n",
    "    data['30%'] = xDropped.iloc[:,2:].quantile(axis=1, numeric_only=True, q = 0.3)\n",
    "    data['40%'] = xDropped.iloc[:,2:].quantile(axis=1, numeric_only=True, q = 0.4)\n",
    "    data['60%'] = xDropped.iloc[:,2:].quantile(axis=1, numeric_only=True, q = 0.6)\n",
    "    data['75%'] = xDropped.iloc[:,2:].quantile(axis=1, numeric_only=True, q = 0.75)\n",
    "    data['80%'] = xDropped.iloc[:,2:].quantile(axis=1, numeric_only=True, q = 0.8)\n",
    "    \n",
    "    data['Error in mean'] = data['Standard deviation']/len(xDropped.columns)\n",
    "    \n",
    "    return data"
   ]
  },
  {
   "cell_type": "code",
   "execution_count": 4,
   "id": "1028a03d",
   "metadata": {},
   "outputs": [],
   "source": [
    "def getFeaturesLabels(data):\n",
    "    \n",
    "    features = np.zeros((len(data), 6))\n",
    "    features[:,0] = np.array(data['Mean'])\n",
    "    features[:,1] = np.array(data['Standard deviation'])\n",
    "    features[:,2] = np.array(data['Variance'])\n",
    "    features[:,3] = np.array(data['Skew'])\n",
    "    features[:,4] = np.array(data['Kurtosis'])\n",
    "    features[:,5] = np.array(data['75%'])\n",
    "\n",
    "    labels = np.array(data['FLAG'])\n",
    "    \n",
    "    return features, labels"
   ]
  },
  {
   "cell_type": "code",
   "execution_count": 5,
   "id": "e9571fba",
   "metadata": {},
   "outputs": [],
   "source": [
    "def getTrainTestData(features, labels, splitPercentage1 = 0.9, splitPercentage2 = 0.5, inclLabel1inXtrain = True):\n",
    "    \n",
    "    if inclLabel1inXtrain == True:\n",
    "        \n",
    "        np.random.seed(555555)\n",
    "        Xtrain = features[labels==1]\n",
    "        ind1 = np.random.choice(np.arange(0, len(features[labels==1])), int(len(features[labels==1])*splitPercentage2), replace=False)\n",
    "        ind = np.random.choice(np.arange(len(features[labels==1]), len(features)), int(len(features)*splitPercentage1-len(labels[labels==1])*splitPercentage2), replace=False)\n",
    "        Xtrain = Xtrain[ind1]\n",
    "        xt = features[ind]\n",
    "        Xtrain = np.concatenate((Xtrain, xt))\n",
    "        Ytrain = np.concatenate((labels[labels==1][ind1], labels[ind]))\n",
    "        temp = np.arange(Xtrain.shape[0])\n",
    "        np.random.shuffle(temp)\n",
    "        Xtrain, Ytrain = Xtrain[temp], Ytrain[temp]\n",
    "        Xtest1 = np.delete(features, ind, axis=0)[len(labels[labels==1]):]\n",
    "        Ytest1 = np.zeros((len(Xtest1)), int)\n",
    "        Xtest2 = np.delete(features[:len(labels[labels==1])], ind1, axis=0)\n",
    "        Ytest2 = np.ones((len(Xtest2)), int)\n",
    "        Xtest = np.concatenate((Xtest1, Xtest2))\n",
    "        Ytest = np.concatenate((Ytest1, Ytest2))\n",
    "    \n",
    "    else:\n",
    "\n",
    "        Xtrain, Xtest, Ytrain, Ytest = sklearn.model_selection.train_test_split(features, labels,\n",
    "                                                                   train_size = splitPercentage, random_state=45)\n",
    "    \n",
    "    return Xtrain, Ytrain, Xtest, Ytest"
   ]
  },
  {
   "cell_type": "code",
   "execution_count": 6,
   "id": "e6790ab3",
   "metadata": {},
   "outputs": [],
   "source": [
    "def ryrzParam(qc, x):\n",
    "    \n",
    "    qc.ry(x[0],1)\n",
    "    qc.rz(x[1],1)\n",
    "    qc.ry(x[2],2)\n",
    "    qc.rz(x[3],2)\n",
    "    qc.ry(x[4],3)\n",
    "    qc.rz(x[5],3)\n",
    "\n",
    "    return qc\n",
    "\n",
    "def ryrzData(qc, x):\n",
    "    \n",
    "\n",
    "    qc.ry(x[0],4)\n",
    "    qc.rz(x[1],4)\n",
    "    qc.ry(x[2],5)\n",
    "    qc.rz(x[3],5)\n",
    "    qc.ry(x[4],6)\n",
    "    qc.rz(x[5],6)\n",
    "\n",
    "    \n",
    "    return qc"
   ]
  },
  {
   "cell_type": "code",
   "execution_count": 7,
   "id": "ee93fbd5",
   "metadata": {},
   "outputs": [],
   "source": [
    "def constructCircuit(param, x):\n",
    "    \n",
    "    qc = QuantumCircuit(7,1)    \n",
    "    qc.h(0)\n",
    "    ryrzParam(qc, param)\n",
    "    ryrzData(qc, x)\n",
    "    qc.cswap(0,1,4)\n",
    "    qc.cswap(0,2,5)\n",
    "    qc.cswap(0,3,6)\n",
    "    qc.h(0)\n",
    "    qc.measure(0, 0)\n",
    "\n",
    "    return qc"
   ]
  },
  {
   "cell_type": "code",
   "execution_count": 8,
   "id": "cc96b867",
   "metadata": {},
   "outputs": [],
   "source": [
    "def meas(qc):\n",
    "    \n",
    "    backend = BasicAer.get_backend(\"qasm_simulator\")\n",
    "    job = execute(qc, backend, shots=2^15, seed_simulator=1024, seed_transpiler=1024)\n",
    "    counts = job.result().get_counts(qc)\n",
    "    \n",
    "    if '1' in counts:\n",
    "        p = counts['1'] / (counts['1'] + counts['0'])\n",
    "        s = 1 - (2*p)\n",
    "    else: s = 1\n",
    "    \n",
    "    if s<=0: s = 1e-16\n",
    "        \n",
    "    return s    "
   ]
  },
  {
   "cell_type": "code",
   "execution_count": 9,
   "id": "0811ead8",
   "metadata": {},
   "outputs": [],
   "source": [
    "def delForward(param, paramModify, x):\n",
    "    \n",
    "    param += paramModify\n",
    "    qc = constructCircuit(param, x)\n",
    "    prob = meas(qc)\n",
    "    \n",
    "    return prob"
   ]
  },
  {
   "cell_type": "code",
   "execution_count": 10,
   "id": "6e364766",
   "metadata": {},
   "outputs": [],
   "source": [
    "def delBackward(param, paramModify, x):\n",
    "    \n",
    "    param -= paramModify\n",
    "    qc = constructCircuit(param, x)\n",
    "    prob = meas(qc)\n",
    "        \n",
    "    return prob"
   ]
  },
  {
   "cell_type": "code",
   "execution_count": 11,
   "id": "02dfa603",
   "metadata": {},
   "outputs": [],
   "source": [
    "def costFunction(param, x, label):\n",
    "    \n",
    "    qc = constructCircuit(param, x)\n",
    "    prob = meas(qc)\n",
    "    if label == 1:\n",
    "        return -np.log(prob)\n",
    "    else:\n",
    "        return -np.log(1 - prob)"
   ]
  },
  {
   "cell_type": "code",
   "execution_count": 12,
   "id": "841e8d97",
   "metadata": {},
   "outputs": [],
   "source": [
    "def runModel(features, labels, paramModify, epochs):\n",
    "\n",
    "    np.random.seed(55555)\n",
    "    param0 = np.random.rand(6)* 2 * np.pi #initialize parameter\n",
    "    param1 = np.random.rand(6)* 2 * np.pi\n",
    "    loss0 = []\n",
    "    loss1 = []\n",
    "\n",
    "    for e in range(epochs):\n",
    "        l0 = 0\n",
    "        for i in range(len(features[labels==0])):\n",
    "        \n",
    "            delFwd = -np.log(delForward(param0, paramModify, features[labels==0][i]))\n",
    "            delBwd = -np.log(delBackward(param0, paramModify, features[labels==0][i]))\n",
    "            l0 += costFunction(param0, features[labels==0][i], label = 0) \n",
    "            diff = 0.5 * (delFwd - delBwd)\n",
    "            param0 -= diff * learningRate\n",
    "\n",
    "        loss0.append(l0)\n",
    "        \n",
    "\n",
    "    for e in range(epochs):\n",
    "        l1 = 0\n",
    "        for i in range(len(features[labels==1])):\n",
    "        \n",
    "            delFwd = -np.log(delForward(param1, paramModify, features[labels==1][i]))\n",
    "            delBwd = -np.log(delBackward(param1, paramModify, features[labels==1][i]))\n",
    "            l1 += costFunction(param1, features[labels==1][i], label = 1)\n",
    "            diff = 0.5 * (delFwd - delBwd)\n",
    "            param1 -= diff * learningRate\n",
    "        \n",
    "\n",
    "        loss1.append(l1)\n",
    "\n",
    "    loss = np.array(loss0)+np.array(loss1)\n",
    "    \n",
    "    return param0, param1, loss"
   ]
  },
  {
   "cell_type": "code",
   "execution_count": 13,
   "id": "8db1ec6a",
   "metadata": {},
   "outputs": [],
   "source": [
    "def predict(Xtest, param0, param1):\n",
    "    \n",
    "    Ypred = []\n",
    "\n",
    "    for i in range(len(Xtest)):\n",
    "        \n",
    "        qc0 = constructCircuit(param0, Xtest[i])\n",
    "        prob0 = meas(qc0)\n",
    "        qc1 = constructCircuit(param1, Xtest[i])\n",
    "        prob1 = meas(qc1)\n",
    "        p0 = prob0 / (prob0 + prob1)\n",
    "        p1 = prob1 / (prob0 + prob1)\n",
    "        probs = np.array([p0, p1])\n",
    "        Ypred.append(np.argmax(probs))\n",
    "    \n",
    "    return Ypred"
   ]
  },
  {
   "cell_type": "markdown",
   "id": "4bcc2521",
   "metadata": {},
   "source": [
    "## Quantum Neural Network (QuClassi)\n",
    "(on 389 datapoints - Completely Balanced Data Set)"
   ]
  },
  {
   "cell_type": "code",
   "execution_count": 14,
   "id": "bb54935e",
   "metadata": {},
   "outputs": [],
   "source": [
    "x = pd.read_csv('dataTimeSeries.csv')"
   ]
  },
  {
   "cell_type": "code",
   "execution_count": 15,
   "id": "523e0a62",
   "metadata": {},
   "outputs": [],
   "source": [
    "data = getDataWithStatsFeatures(x)\n",
    "features, labels = getFeaturesLabels(data)"
   ]
  },
  {
   "cell_type": "code",
   "execution_count": 17,
   "id": "5c395d63",
   "metadata": {},
   "outputs": [],
   "source": [
    "epochs = 15\n",
    "learningRate = 0.01\n",
    "paramModify = np.pi/(2 * np.sqrt(epochs))\n",
    "\n",
    "# splitPercentage1: percentage of training dataset\n",
    "# splitPercentage2: percentage of label 1 in training dataset\n",
    "Xtrain, Ytrain, Xtest, Ytest = getTrainTestData(features, labels, splitPercentage1=0.5, splitPercentage2=0.7, inclLabel1inXtrain=True)\n",
    "param0, param1, loss = runModel(Xtrain, Ytrain, paramModify, epochs)\n",
    "Ypred = predict(Xtest, param0, param1)"
   ]
  },
  {
   "cell_type": "code",
   "execution_count": 18,
   "id": "b63a8be8",
   "metadata": {},
   "outputs": [
    {
     "data": {
      "image/png": "[encoded data removed]",
      "text/plain": [
       "<Figure size 432x288 with 1 Axes>"
      ]
     },
     "metadata": {
      "needs_background": "light"
     },
     "output_type": "display_data"
    }
   ],
   "source": [
    "plt.figure()\n",
    "plt.plot(np.arange(len(loss))+1, loss)\n",
    "plt.xlabel('Iterations')\n",
    "plt.ylabel('Loss')\n",
    "plt.show()"
   ]
  },
  {
   "cell_type": "code",
   "execution_count": 19,
   "id": "bdd7313e",
   "metadata": {},
   "outputs": [
    {
     "data": {
      "text/plain": [
       "array([2.98673486, 7.65544189, 7.1738459 , 7.69702564, 5.00011254,\n",
       "       5.79051371])"
      ]
     },
     "execution_count": 19,
     "metadata": {},
     "output_type": "execute_result"
    }
   ],
   "source": [
    "param0"
   ]
  },
  {
   "cell_type": "code",
   "execution_count": 20,
   "id": "100e42a7",
   "metadata": {},
   "outputs": [
    {
     "data": {
      "text/plain": [
       "array([ 4.02503395,  4.29960746, -0.30058994,  4.46543711,  4.40139331,\n",
       "        3.57274115])"
      ]
     },
     "execution_count": 20,
     "metadata": {},
     "output_type": "execute_result"
    }
   ],
   "source": [
    "param1"
   ]
  },
  {
   "cell_type": "code",
   "execution_count": 21,
   "id": "9de9e175",
   "metadata": {},
   "outputs": [
    {
     "name": "stdout",
     "output_type": "stream",
     "text": [
      "              precision    recall  f1-score   support\n",
      "\n",
      "           0       0.76      0.97      0.85       147\n",
      "           1       0.29      0.04      0.07        48\n",
      "\n",
      "    accuracy                           0.74       195\n",
      "   macro avg       0.52      0.50      0.46       195\n",
      "weighted avg       0.64      0.74      0.66       195\n",
      "\n"
     ]
    }
   ],
   "source": [
    "print(sklearn.metrics.classification_report(Ypred, Ytest, zero_division=False))"
   ]
  },
  {
   "cell_type": "code",
   "execution_count": 22,
   "id": "2a919614",
   "metadata": {},
   "outputs": [
    {
     "data": {
      "image/png": "[encoded data removed]",
      "text/plain": [
       "<Figure size 432x288 with 2 Axes>"
      ]
     },
     "metadata": {
      "needs_background": "light"
     },
     "output_type": "display_data"
    }
   ],
   "source": [
    "confusionMatrix = metrics.confusion_matrix(y_true=Ytest, y_pred=Ypred)\n",
    "disp = metrics.ConfusionMatrixDisplay(confusionMatrix)\n",
    "disp.plot()\n",
    "plt.show()"
   ]
  },
  {
   "cell_type": "code",
   "execution_count": null,
   "id": "996fd6b7",
   "metadata": {},
   "outputs": [],
   "source": []
  }
 ],
 "metadata": {
  "kernelspec": {
   "display_name": "Python 3 (ipykernel)",
   "language": "python",
   "name": "python3"
  },
  "language_info": {
   "codemirror_mode": {
    "name": "ipython",
    "version": 3
   },
   "file_extension": ".py",
   "mimetype": "text/x-python",
   "name": "python",
   "nbconvert_exporter": "python",
   "pygments_lexer": "ipython3",
   "version": "3.10.4"
  }
 },
 "nbformat": 4,
 "nbformat_minor": 5
}
